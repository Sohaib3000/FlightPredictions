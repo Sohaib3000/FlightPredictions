{
 "cells": [
  {
   "cell_type": "code",
   "execution_count": 3,
   "id": "d4417d42-c023-47c5-853c-dd4740efb6dc",
   "metadata": {},
   "outputs": [],
   "source": [
    "import pandas as pd\n",
    "import psycopg2"
   ]
  },
  {
   "cell_type": "markdown",
   "id": "53009679-0c90-47b5-adef-b00896637dc0",
   "metadata": {},
   "source": [
    "Building a function to obtain data using SQL queries and postgres module"
   ]
  },
  {
   "cell_type": "code",
   "execution_count": 2,
   "id": "87c3656e-61a0-4b9c-9fef-1922f8e753a2",
   "metadata": {},
   "outputs": [],
   "source": [
    "def queryreturn(query):\n",
    "    con = psycopg2.connect(database=\"mid_term_project\", user=\"lhl_student\", password=\"lhl_student\", host=\"mid-term-project.ca2jkepgjpne.us-east-2.rds.amazonaws.com\", port=\"5432\")\n",
    "    cur = con.cursor()\n",
    "    cur.execute(query)\n",
    "    rows = cur.fetchall()\n",
    "    df = pd.DataFrame(rows)\n",
    "    con.close()\n",
    "    return df"
   ]
  },
  {
   "cell_type": "code",
   "execution_count": 9,
   "id": "51e5ee75-c102-41ba-a0aa-53df373162c0",
   "metadata": {},
   "outputs": [],
   "source": [
    "query = 'SELECT * FROM passengers ORDER BY RANDOM() LIMIT 700000'\n",
    "\n",
    "passengers = queryreturn(query)"
   ]
  },
  {
   "cell_type": "code",
   "execution_count": 4,
   "id": "10d12cce-8394-4f45-8703-7003323817c7",
   "metadata": {},
   "outputs": [],
   "source": [
    "query = 'SELECT * FROM flights ORDER BY RANDOM() LIMIT 700000'\n",
    "\n",
    "flights = queryreturn(query)"
   ]
  },
  {
   "cell_type": "code",
   "execution_count": 9,
   "id": "5e6f5bdb-5fe5-4472-9f3c-cf5e1a9e7b77",
   "metadata": {},
   "outputs": [],
   "source": [
    "query = 'SELECT * FROM fuel_comsumption LIMIT 700000'\n",
    "\n",
    "fuel_consumption = queryreturn(query)"
   ]
  },
  {
   "cell_type": "markdown",
   "id": "cdc71501-02d3-4c99-b061-574ccfdd6ff3",
   "metadata": {},
   "source": [
    "Getting column names using csv files obtained from VS code SQL extension"
   ]
  },
  {
   "cell_type": "code",
   "execution_count": 6,
   "id": "d9d1d2ad-ca67-4bcd-a093-19fa4bc4b756",
   "metadata": {},
   "outputs": [],
   "source": [
    "flightscolumns = pd.read_csv('Columns/FlightsColumns.csv')\n",
    "\n",
    "flights.columns = flightscolumns.columns.tolist()"
   ]
  },
  {
   "cell_type": "code",
   "execution_count": 11,
   "id": "1aee3085-a535-464a-9c9c-4eac3f189d58",
   "metadata": {},
   "outputs": [],
   "source": [
    "passengerscolumns = pd.read_csv('Columns/PassengersColumns.csv')\n",
    "\n",
    "passengers.columns = passengerscolumns.columns.tolist()"
   ]
  },
  {
   "cell_type": "code",
   "execution_count": 17,
   "id": "54ba32bb-4426-480e-90e2-8b2cd72de8b1",
   "metadata": {},
   "outputs": [],
   "source": [
    "fuel_consumptioncolumns = pd.read_csv('FCColumns.csv')\n",
    "\n",
    "fuel_consumption.columns = fuel_consumptioncolumns.columns.tolist()"
   ]
  },
  {
   "cell_type": "markdown",
   "id": "fb8e16f6-d876-4129-baf9-b4758f5e0426",
   "metadata": {},
   "source": [
    "Saving the data as CSV files"
   ]
  },
  {
   "cell_type": "code",
   "execution_count": 12,
   "id": "68971f6d-919b-4952-87f5-06fc65d8fe53",
   "metadata": {},
   "outputs": [],
   "source": [
    "pd.DataFrame.to_csv(flights,'flights.csv')"
   ]
  },
  {
   "cell_type": "code",
   "execution_count": 13,
   "id": "cb2f8787-bc65-4fa4-8e44-52919f895b0b",
   "metadata": {},
   "outputs": [],
   "source": [
    "pd.DataFrame.to_csv(passengers,'passengers.csv')"
   ]
  },
  {
   "cell_type": "code",
   "execution_count": 22,
   "id": "442db888-61df-4358-bbfd-5d4e326b69a1",
   "metadata": {},
   "outputs": [],
   "source": [
    "pd.DataFrame.to_csv(fuel_consumption,'fuel_consumption.csv')"
   ]
  },
  {
   "cell_type": "code",
   "execution_count": null,
   "id": "a863dd85-47cb-41dc-b829-0b2df2f80101",
   "metadata": {},
   "outputs": [],
   "source": []
  },
  {
   "cell_type": "code",
   "execution_count": null,
   "id": "db88e5d6-d511-4ed7-aec2-cafa49049c38",
   "metadata": {},
   "outputs": [],
   "source": []
  }
 ],
 "metadata": {
  "kernelspec": {
   "display_name": "Python 3",
   "language": "python",
   "name": "python3"
  },
  "language_info": {
   "codemirror_mode": {
    "name": "ipython",
    "version": 3
   },
   "file_extension": ".py",
   "mimetype": "text/x-python",
   "name": "python",
   "nbconvert_exporter": "python",
   "pygments_lexer": "ipython3",
   "version": "3.8.2"
  }
 },
 "nbformat": 4,
 "nbformat_minor": 5
}

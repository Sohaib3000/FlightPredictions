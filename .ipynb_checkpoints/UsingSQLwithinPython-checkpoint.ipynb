{
 "cells": [
  {
   "cell_type": "code",
   "execution_count": 1,
   "id": "12807300-f53c-4444-be57-6d3491d889ae",
   "metadata": {},
   "outputs": [],
   "source": [
    "import sqlite3"
   ]
  },
  {
   "cell_type": "code",
   "execution_count": 2,
   "id": "80a6e656-0b7f-4d38-8a1f-bc2e493de013",
   "metadata": {},
   "outputs": [],
   "source": [
    "from sqlite3 import Error"
   ]
  },
  {
   "cell_type": "code",
   "execution_count": 3,
   "id": "1fa82c35-3764-456c-aa79-3074b4275862",
   "metadata": {},
   "outputs": [],
   "source": [
    "def create_connection(path):\n",
    "    connection = None\n",
    "    try:\n",
    "        connection = sqlite3.connect(path)\n",
    "        print(\"Connection to SQLite DB succesful\")\n",
    "    except Error as e:\n",
    "        print(f'The error {e} occurred')\n",
    "    return connection"
   ]
  },
  {
   "cell_type": "code",
   "execution_count": 4,
   "id": "5c4f21a7-4a65-4339-84e0-59d341f8a73e",
   "metadata": {},
   "outputs": [
    {
     "name": "stdout",
     "output_type": "stream",
     "text": [
      "Connection to SQLite DB succesful\n"
     ]
    }
   ],
   "source": [
    "connection = create_connection(\"sm_app.sqlite\")"
   ]
  },
  {
   "cell_type": "code",
   "execution_count": 5,
   "id": "3acb2708-6e57-4bd1-aae6-52444daaf9e3",
   "metadata": {},
   "outputs": [],
   "source": [
    "def execute_query(connection, query):\n",
    "    cursor = connection.cursor()\n",
    "    try:\n",
    "        cursor.execute(query)\n",
    "        connection.commit()\n",
    "        print(\"Query executed successfully\")\n",
    "    except Error as e:\n",
    "        print(f\"The error '{e}' occurred\")"
   ]
  },
  {
   "cell_type": "code",
   "execution_count": 6,
   "id": "d96de476-c919-4eff-bb26-fbe8439ed34d",
   "metadata": {},
   "outputs": [],
   "source": [
    "create_users_table = \"\"\"\n",
    "CREATE TABLE IF NOT EXISTS users (\n",
    "  id INTEGER PRIMARY KEY AUTOINCREMENT,\n",
    "  name TEXT NOT NULL,\n",
    "  age INTEGER,\n",
    "  gender TEXT,\n",
    "  nationality TEXT\n",
    ");\n",
    "\"\"\""
   ]
  },
  {
   "cell_type": "code",
   "execution_count": 7,
   "id": "96174e00-a9fa-40c1-a257-e076010744bd",
   "metadata": {},
   "outputs": [],
   "source": [
    "def execute_query(connection, query):\n",
    "    cursor = connection.cursor()\n",
    "    try:\n",
    "        cursor.execute(query)\n",
    "        connection.commit()\n",
    "        print(\"Query executed successfully\")\n",
    "    except Error as e:\n",
    "        print(f\"The error '{e}' occurred\")"
   ]
  },
  {
   "cell_type": "code",
   "execution_count": 8,
   "id": "494be94d-0597-426b-b58a-072069b8e84d",
   "metadata": {},
   "outputs": [],
   "source": [
    "create_users_table = \"\"\"\n",
    "CREATE TABLE IF NOT EXISTS users (\n",
    "  id INTEGER PRIMARY KEY AUTOINCREMENT,\n",
    "  name TEXT NOT NULL,\n",
    "  age INTEGER,\n",
    "  gender TEXT,\n",
    "  nationality TEXT\n",
    ");\n",
    "\"\"\""
   ]
  },
  {
   "cell_type": "code",
   "execution_count": 9,
   "id": "0aec4050-672a-4a94-a6ce-d0ff578c4f53",
   "metadata": {},
   "outputs": [
    {
     "name": "stdout",
     "output_type": "stream",
     "text": [
      "Query executed successfully\n"
     ]
    }
   ],
   "source": [
    "execute_query(connection, create_users_table)"
   ]
  },
  {
   "cell_type": "code",
   "execution_count": 10,
   "id": "f90419f7-3226-466f-b4d5-a0165e1a477b",
   "metadata": {},
   "outputs": [],
   "source": [
    "import sqlite3\n",
    "from sqlite3 import Error\n",
    "\n",
    "def create_connection(path):\n",
    "    connection = None\n",
    "    try:\n",
    "        connection = sqlite3.connect(path)\n",
    "        print(\"Connection to SQLite DB successful\")\n",
    "    except Error as e:\n",
    "        print(f\"The error '{e}' occurred\")\n",
    "\n",
    "    return connection"
   ]
  },
  {
   "cell_type": "code",
   "execution_count": 11,
   "id": "240808a4-c0ad-4ae9-b417-db4e74c5613a",
   "metadata": {},
   "outputs": [
    {
     "name": "stdout",
     "output_type": "stream",
     "text": [
      "Connection to SQLite DB successful\n"
     ]
    }
   ],
   "source": [
    "connection = create_connection(\"sm_app.sqlite\")"
   ]
  },
  {
   "cell_type": "code",
   "execution_count": 12,
   "id": "3b5c1bcb-d5ec-4f11-8dd0-05b5bff4122b",
   "metadata": {},
   "outputs": [],
   "source": [
    "def execute_query(connection, query):\n",
    "    cursor = connection.cursor()\n",
    "    try:\n",
    "        cursor.execute(query)\n",
    "        connection.commit()\n",
    "        print(\"Query executed successfully\")\n",
    "    except Error as e:\n",
    "        print(f\"The error '{e}' occurred\")"
   ]
  },
  {
   "cell_type": "code",
   "execution_count": 13,
   "id": "a2f17218-1a9d-44ab-b435-a6575d31e512",
   "metadata": {},
   "outputs": [],
   "source": [
    "create_users_table = \"\"\"\n",
    "CREATE TABLE IF NOT EXISTS users (\n",
    "  id INTEGER PRIMARY KEY AUTOINCREMENT,\n",
    "  name TEXT NOT NULL,\n",
    "  age INTEGER,\n",
    "  gender TEXT,\n",
    "  nationality TEXT\n",
    ");\n",
    "\"\"\""
   ]
  },
  {
   "cell_type": "code",
   "execution_count": 14,
   "id": "beefc48c-bbc9-49f7-8768-dbbac91fedfb",
   "metadata": {},
   "outputs": [
    {
     "name": "stdout",
     "output_type": "stream",
     "text": [
      "Query executed successfully\n"
     ]
    }
   ],
   "source": [
    "execute_query(connection, create_users_table)"
   ]
  },
  {
   "cell_type": "code",
   "execution_count": 15,
   "id": "68221387-f4af-4303-93c0-09c339ed37ec",
   "metadata": {},
   "outputs": [],
   "source": [
    "create_posts_table = \"\"\"\n",
    "CREATE TABLE IF NOT EXISTS posts(\n",
    "  id INTEGER PRIMARY KEY AUTOINCREMENT, \n",
    "  title TEXT NOT NULL, \n",
    "  description TEXT NOT NULL, \n",
    "  user_id INTEGER NOT NULL, \n",
    "  FOREIGN KEY (user_id) REFERENCES users (id)\n",
    ");\n",
    "\"\"\"\n"
   ]
  },
  {
   "cell_type": "code",
   "execution_count": 16,
   "id": "f58e8abc-2b73-4a27-95f7-4c47f23d8e36",
   "metadata": {},
   "outputs": [
    {
     "name": "stdout",
     "output_type": "stream",
     "text": [
      "Query executed successfully\n"
     ]
    }
   ],
   "source": [
    "execute_query(connection, create_posts_table)"
   ]
  },
  {
   "cell_type": "code",
   "execution_count": 17,
   "id": "714cc281-e2c7-4376-b959-d91f2372c0cc",
   "metadata": {},
   "outputs": [
    {
     "name": "stdout",
     "output_type": "stream",
     "text": [
      "Query executed successfully\n",
      "Query executed successfully\n"
     ]
    }
   ],
   "source": [
    "create_comments_table = \"\"\"\n",
    "CREATE TABLE IF NOT EXISTS comments (\n",
    "  id INTEGER PRIMARY KEY AUTOINCREMENT, \n",
    "  text TEXT NOT NULL, \n",
    "  user_id INTEGER NOT NULL, \n",
    "  post_id INTEGER NOT NULL, \n",
    "  FOREIGN KEY (user_id) REFERENCES users (id) FOREIGN KEY (post_id) REFERENCES posts (id)\n",
    ");\n",
    "\"\"\"\n",
    "\n",
    "create_likes_table = \"\"\"\n",
    "CREATE TABLE IF NOT EXISTS likes (\n",
    "  id INTEGER PRIMARY KEY AUTOINCREMENT, \n",
    "  user_id INTEGER NOT NULL, \n",
    "  post_id integer NOT NULL, \n",
    "  FOREIGN KEY (user_id) REFERENCES users (id) FOREIGN KEY (post_id) REFERENCES posts (id)\n",
    ");\n",
    "\"\"\"\n",
    "\n",
    "execute_query(connection, create_comments_table)  \n",
    "execute_query(connection, create_likes_table) \n"
   ]
  },
  {
   "cell_type": "code",
   "execution_count": 18,
   "id": "44d5dfe5-6938-414a-8b33-e0592da6ff1b",
   "metadata": {},
   "outputs": [
    {
     "name": "stdout",
     "output_type": "stream",
     "text": [
      "Query executed successfully\n"
     ]
    }
   ],
   "source": [
    "create_users = \"\"\"\n",
    "INSERT INTO\n",
    "  users (name, age, gender, nationality)\n",
    "VALUES\n",
    "  ('James', 25, 'male', 'USA'),\n",
    "  ('Leila', 32, 'female', 'France'),\n",
    "  ('Brigitte', 35, 'female', 'England'),\n",
    "  ('Mike', 40, 'male', 'Denmark'),\n",
    "  ('Elizabeth', 21, 'female', 'Canada');\n",
    "\"\"\"\n",
    "\n",
    "execute_query(connection, create_users)   "
   ]
  },
  {
   "cell_type": "code",
   "execution_count": 19,
   "id": "fdef0c94-1505-45e1-bca6-f97d1fc2022c",
   "metadata": {},
   "outputs": [
    {
     "name": "stdout",
     "output_type": "stream",
     "text": [
      "Query executed successfully\n"
     ]
    }
   ],
   "source": [
    "create_posts = \"\"\"\n",
    "INSERT INTO\n",
    "  posts (title, description, user_id)\n",
    "VALUES\n",
    "  (\"Happy\", \"I am feeling very happy today\", 1),\n",
    "  (\"Hot Weather\", \"The weather is very hot today\", 2),\n",
    "  (\"Help\", \"I need some help with my work\", 2),\n",
    "  (\"Great News\", \"I am getting married\", 1),\n",
    "  (\"Interesting Game\", \"It was a fantastic game of tennis\", 5),\n",
    "  (\"Party\", \"Anyone up for a late-night party today?\", 3);\n",
    "\"\"\"\n",
    "\n",
    "execute_query(connection, create_posts)  "
   ]
  },
  {
   "cell_type": "code",
   "execution_count": 20,
   "id": "68ebfb2b-92a4-49fb-a207-82ae0dd66158",
   "metadata": {},
   "outputs": [
    {
     "name": "stdout",
     "output_type": "stream",
     "text": [
      "Query executed successfully\n",
      "Query executed successfully\n"
     ]
    }
   ],
   "source": [
    "create_comments = \"\"\"\n",
    "INSERT INTO\n",
    "  comments (text, user_id, post_id)\n",
    "VALUES\n",
    "  ('Count me in', 1, 6),\n",
    "  ('What sort of help?', 5, 3),\n",
    "  ('Congrats buddy', 2, 4),\n",
    "  ('I was rooting for Nadal though', 4, 5),\n",
    "  ('Help with your thesis?', 2, 3),\n",
    "  ('Many congratulations', 5, 4);\n",
    "\"\"\"\n",
    "\n",
    "create_likes = \"\"\"\n",
    "INSERT INTO\n",
    "  likes (user_id, post_id)\n",
    "VALUES\n",
    "  (1, 6),\n",
    "  (2, 3),\n",
    "  (1, 5),\n",
    "  (5, 4),\n",
    "  (2, 4),\n",
    "  (4, 2),\n",
    "  (3, 6);\n",
    "\"\"\"\n",
    "\n",
    "execute_query(connection, create_comments)\n",
    "execute_query(connection, create_likes) \n"
   ]
  },
  {
   "cell_type": "code",
   "execution_count": 21,
   "id": "8bc58f65-bb67-4780-8944-21ee94573375",
   "metadata": {},
   "outputs": [],
   "source": [
    "def execute_read_query(connection, query):\n",
    "    cursor = connection.cursor()\n",
    "    result = None\n",
    "    try:\n",
    "        cursor.execute(query)\n",
    "        result = cursor.fetchall()\n",
    "        return result\n",
    "    except Error as e:\n",
    "        print(f\"The error '{e}' occurred\")"
   ]
  },
  {
   "cell_type": "code",
   "execution_count": 22,
   "id": "dfacb341-a638-41e2-9600-80e35b200681",
   "metadata": {},
   "outputs": [
    {
     "name": "stdout",
     "output_type": "stream",
     "text": [
      "(1, 'James', 25, 'male', 'USA')\n",
      "(2, 'Leila', 32, 'female', 'France')\n",
      "(3, 'Brigitte', 35, 'female', 'England')\n",
      "(4, 'Mike', 40, 'male', 'Denmark')\n",
      "(5, 'Elizabeth', 21, 'female', 'Canada')\n",
      "(6, 'James', 25, 'male', 'USA')\n",
      "(7, 'Leila', 32, 'female', 'France')\n",
      "(8, 'Brigitte', 35, 'female', 'England')\n",
      "(9, 'Mike', 40, 'male', 'Denmark')\n",
      "(10, 'Elizabeth', 21, 'female', 'Canada')\n",
      "(11, 'James', 25, 'male', 'USA')\n",
      "(12, 'Leila', 32, 'female', 'France')\n",
      "(13, 'Brigitte', 35, 'female', 'England')\n",
      "(14, 'Mike', 40, 'male', 'Denmark')\n",
      "(15, 'Elizabeth', 21, 'female', 'Canada')\n"
     ]
    }
   ],
   "source": [
    "select_users = \"SELECT * from users\"\n",
    "users = execute_read_query(connection, select_users)\n",
    "\n",
    "for user in users:\n",
    "    print(user)"
   ]
  },
  {
   "cell_type": "code",
   "execution_count": 23,
   "id": "2be5673f-73c1-40e2-afdd-29df349e7560",
   "metadata": {},
   "outputs": [],
   "source": [
    "import sqlite3\n",
    "from sqlite3 import Error\n",
    "\n",
    "def create_connection(path):\n",
    "    connection = None\n",
    "    try:\n",
    "        connection = sqlite3.connect(path)\n",
    "        print(\"Connection to SQLite DB successful\")\n",
    "    except Error as e:\n",
    "        print(f\"The error '{e}' occurred\")\n",
    "\n",
    "    return connection"
   ]
  },
  {
   "cell_type": "code",
   "execution_count": 24,
   "id": "bd331375-b407-4a14-ad78-44058e546126",
   "metadata": {},
   "outputs": [
    {
     "name": "stdout",
     "output_type": "stream",
     "text": [
      "Connection to SQLite DB successful\n"
     ]
    }
   ],
   "source": [
    "connection1 = create_connection('hr.db')"
   ]
  },
  {
   "cell_type": "code",
   "execution_count": 25,
   "id": "bdb2ff5a-691a-4059-a024-b81ce85a4c46",
   "metadata": {},
   "outputs": [],
   "source": [
    "select = '''\n",
    "SELECT first_name,last_name,salary,0.12*salary AS PF FROM EMPLOYEES\n",
    "'''"
   ]
  },
  {
   "cell_type": "code",
   "execution_count": 26,
   "id": "da1bd825-3948-44b4-a52d-fb203678296a",
   "metadata": {},
   "outputs": [],
   "source": [
    "result1 = execute_read_query(connection1,select)"
   ]
  },
  {
   "cell_type": "code",
   "execution_count": 27,
   "id": "2685d789-49f0-4d86-8891-569835da53c5",
   "metadata": {},
   "outputs": [
    {
     "data": {
      "text/plain": [
       "[('Steven', 'King', 24000.0, 2880.0),\n",
       " ('Neena', 'Kochhar', 17000.0, 2040.0),\n",
       " ('Lex', 'De Haan', 17000.0, 2040.0),\n",
       " ('Alexander', 'Hunold', 9000.0, 1080.0),\n",
       " ('Bruce', 'Ernst', 6000.0, 720.0),\n",
       " ('David', 'Austin', 4800.0, 576.0),\n",
       " ('Valli', 'Pataballa', 4800.0, 576.0),\n",
       " ('Diana', 'Lorentz', 4200.0, 504.0),\n",
       " ('Nancy', 'Greenberg', 12000.0, 1440.0),\n",
       " ('Daniel', 'Faviet', 9000.0, 1080.0),\n",
       " ('John', 'Chen', 8200.0, 984.0),\n",
       " ('Ismael', 'Sciarra', 7700.0, 924.0),\n",
       " ('Jose Manuel', 'Urman', 7800.0, 936.0),\n",
       " ('Luis', 'Popp', 6900.0, 828.0),\n",
       " ('Den', 'Raphaely', 11000.0, 1320.0),\n",
       " ('Alexander', 'Khoo', 3100.0, 372.0),\n",
       " ('Shelli', 'Baida', 2900.0, 348.0),\n",
       " ('Sigal', 'Tobias', 2800.0, 336.0),\n",
       " ('Guy', 'Himuro', 2600.0, 312.0),\n",
       " ('Karen', 'Colmenares', 2500.0, 300.0),\n",
       " ('Matthew', 'Weiss', 8000.0, 960.0),\n",
       " ('Adam', 'Fripp', 8200.0, 984.0),\n",
       " ('Payam', 'Kaufling', 7900.0, 948.0),\n",
       " ('Shanta', 'Vollman', 6500.0, 780.0),\n",
       " ('Irene', 'Mikkilineni', 2700.0, 324.0),\n",
       " ('John', 'Russell', 14000.0, 1680.0),\n",
       " ('Karen', 'Partners', 13500.0, 1620.0),\n",
       " ('Jonathon', 'Taylor', 8600.0, 1032.0),\n",
       " ('Jack', 'Livingston', 8400.0, 1008.0),\n",
       " ('Kimberely', 'Grant', 7000.0, 840.0),\n",
       " ('Charles', 'Johnson', 6200.0, 744.0),\n",
       " ('Sarah', 'Bell', 4000.0, 480.0),\n",
       " ('Britney', 'Everett', 3900.0, 468.0),\n",
       " ('Jennifer', 'Whalen', 4400.0, 528.0),\n",
       " ('Michael', 'Hartstein', 13000.0, 1560.0),\n",
       " ('Pat', 'Fay', 6000.0, 720.0),\n",
       " ('Susan', 'Mavris', 6500.0, 780.0),\n",
       " ('Hermann', 'Baer', 10000.0, 1200.0),\n",
       " ('Shelley', 'Higgins', 12000.0, 1440.0),\n",
       " ('William', 'Gietz', 8300.0, 996.0)]"
      ]
     },
     "execution_count": 27,
     "metadata": {},
     "output_type": "execute_result"
    }
   ],
   "source": [
    "result1"
   ]
  },
  {
   "cell_type": "code",
   "execution_count": 28,
   "id": "c8f688e8-a224-4c9d-909e-905291bcd98f",
   "metadata": {},
   "outputs": [],
   "source": [
    "select = '''\n",
    "SELECT first_name,last_name,employees.department_id FROM employees\n",
    "JOIN departments\n",
    "ON employees.department_id = departments.department_id\n",
    "WHERE department_name IN ('Purchasing','Finance')\n",
    "ORDER BY employees.department_id\n",
    "'''"
   ]
  },
  {
   "cell_type": "code",
   "execution_count": 29,
   "id": "518d1ae7-a059-4b40-a138-cbd43c04feeb",
   "metadata": {},
   "outputs": [],
   "source": [
    "result1 = execute_read_query(connection1,select)"
   ]
  },
  {
   "cell_type": "code",
   "execution_count": 30,
   "id": "63452eb9-36ca-4691-a026-d32e0f59d866",
   "metadata": {},
   "outputs": [
    {
     "data": {
      "text/plain": [
       "[('Den', 'Raphaely', 3),\n",
       " ('Alexander', 'Khoo', 3),\n",
       " ('Shelli', 'Baida', 3),\n",
       " ('Sigal', 'Tobias', 3),\n",
       " ('Guy', 'Himuro', 3),\n",
       " ('Karen', 'Colmenares', 3),\n",
       " ('Nancy', 'Greenberg', 10),\n",
       " ('Daniel', 'Faviet', 10),\n",
       " ('John', 'Chen', 10),\n",
       " ('Ismael', 'Sciarra', 10),\n",
       " ('Jose Manuel', 'Urman', 10),\n",
       " ('Luis', 'Popp', 10)]"
      ]
     },
     "execution_count": 30,
     "metadata": {},
     "output_type": "execute_result"
    }
   ],
   "source": [
    "result1"
   ]
  },
  {
   "cell_type": "code",
   "execution_count": 31,
   "id": "92168c1a-3a63-4bed-9131-c69a2de55014",
   "metadata": {},
   "outputs": [
    {
     "data": {
      "text/plain": [
       "[(4, 0.0)]"
      ]
     },
     "execution_count": 31,
     "metadata": {},
     "output_type": "execute_result"
    }
   ],
   "source": [
    "select = '''\n",
    "SELECT job_id, MAX(salary) - MIN(salary) OVER (PARTITION BY job_id) AS salary_span FROM employees\n",
    "'''\n",
    "\n",
    "result1 = execute_read_query(connection1,select)\n",
    "\n",
    "result1"
   ]
  },
  {
   "cell_type": "code",
   "execution_count": 32,
   "id": "036645c7-a20f-43c4-b9e6-7cbb944b2d0b",
   "metadata": {},
   "outputs": [],
   "source": [
    "select = '''\n",
    "SELECT department_name, COUNT(employee_id) FROM departments\n",
    "JOIN employees ON departments.department\n",
    "'''\n",
    "\n",
    "result1 = execute_read_query(connection1,select)\n",
    "\n",
    "result1"
   ]
  },
  {
   "cell_type": "code",
   "execution_count": 33,
   "id": "0a2692cd-689f-4cda-958b-763bf4e51fc8",
   "metadata": {},
   "outputs": [],
   "source": [
    "df = pd.read_sql(select,connection1)"
   ]
  },
  {
   "cell_type": "code",
   "execution_count": 34,
   "id": "5b1bfe41-4a0e-49e9-8454-042b1535c1af",
   "metadata": {},
   "outputs": [
    {
     "data": {
      "text/html": [
       "<div>\n",
       "<style scoped>\n",
       "    .dataframe tbody tr th:only-of-type {\n",
       "        vertical-align: middle;\n",
       "    }\n",
       "\n",
       "    .dataframe tbody tr th {\n",
       "        vertical-align: top;\n",
       "    }\n",
       "\n",
       "    .dataframe thead th {\n",
       "        text-align: right;\n",
       "    }\n",
       "</style>\n",
       "<table border=\"1\" class=\"dataframe\">\n",
       "  <thead>\n",
       "    <tr style=\"text-align: right;\">\n",
       "      <th></th>\n",
       "      <th>job_id</th>\n",
       "      <th>salary_span</th>\n",
       "    </tr>\n",
       "  </thead>\n",
       "  <tbody>\n",
       "    <tr>\n",
       "      <th>0</th>\n",
       "      <td>4</td>\n",
       "      <td>0.0</td>\n",
       "    </tr>\n",
       "  </tbody>\n",
       "</table>\n",
       "</div>"
      ],
      "text/plain": [
       "   job_id  salary_span\n",
       "0       4          0.0"
      ]
     },
     "execution_count": 34,
     "metadata": {},
     "output_type": "execute_result"
    }
   ],
   "source": [
    "df.sort_values(by='job_id')"
   ]
  },
  {
   "cell_type": "code",
   "execution_count": 35,
   "id": "07508566-d04e-4288-9df7-aa041640c9fe",
   "metadata": {},
   "outputs": [
    {
     "data": {
      "text/plain": [
       "[(1, 'Administration', 1700),\n",
       " (2, 'Marketing', 1800),\n",
       " (3, 'Purchasing', 1700),\n",
       " (4, 'Human Resources', 2400),\n",
       " (5, 'Shipping', 1500),\n",
       " (6, 'IT', 1400),\n",
       " (7, 'Public Relations', 2700),\n",
       " (8, 'Sales', 2500),\n",
       " (9, 'Executive', 1700),\n",
       " (10, 'Finance', 1700),\n",
       " (11, 'Accounting', 1700)]"
      ]
     },
     "execution_count": 35,
     "metadata": {},
     "output_type": "execute_result"
    }
   ],
   "source": [
    "select = '''\n",
    "SELECT * FROM departments\n",
    "'''\n",
    "\n",
    "result1 = execute_read_query(connection1,select)\n",
    "\n",
    "result1"
   ]
  },
  {
   "cell_type": "markdown",
   "id": "299d900d-789a-47de-b4d0-27ba163f1b31",
   "metadata": {},
   "source": [
    "administration, purchasing, shipping, it, executive, finance, accounting\n",
    "1,3,5,6,9,10,11"
   ]
  },
  {
   "cell_type": "code",
   "execution_count": 36,
   "id": "c3c24bf6-8752-40de-86e8-1d00a603dc49",
   "metadata": {},
   "outputs": [
    {
     "data": {
      "text/plain": [
       "[(100,\n",
       "  'Steven',\n",
       "  'King',\n",
       "  'steven.king@sqltutorial.org',\n",
       "  '515.123.4567',\n",
       "  '1987-06-17',\n",
       "  4,\n",
       "  24000.0,\n",
       "  None,\n",
       "  9),\n",
       " (101,\n",
       "  'Neena',\n",
       "  'Kochhar',\n",
       "  'neena.kochhar@sqltutorial.org',\n",
       "  '515.123.4568',\n",
       "  '1989-09-21',\n",
       "  5,\n",
       "  17000.0,\n",
       "  100,\n",
       "  9),\n",
       " (102,\n",
       "  'Lex',\n",
       "  'De Haan',\n",
       "  'lex.de haan@sqltutorial.org',\n",
       "  '515.123.4569',\n",
       "  '1993-01-13',\n",
       "  5,\n",
       "  17000.0,\n",
       "  100,\n",
       "  9),\n",
       " (103,\n",
       "  'Alexander',\n",
       "  'Hunold',\n",
       "  'alexander.hunold@sqltutorial.org',\n",
       "  '590.423.4567',\n",
       "  '1990-01-03',\n",
       "  9,\n",
       "  9000.0,\n",
       "  102,\n",
       "  6),\n",
       " (104,\n",
       "  'Bruce',\n",
       "  'Ernst',\n",
       "  'bruce.ernst@sqltutorial.org',\n",
       "  '590.423.4568',\n",
       "  '1991-05-21',\n",
       "  9,\n",
       "  6000.0,\n",
       "  103,\n",
       "  6),\n",
       " (105,\n",
       "  'David',\n",
       "  'Austin',\n",
       "  'david.austin@sqltutorial.org',\n",
       "  '590.423.4569',\n",
       "  '1997-06-25',\n",
       "  9,\n",
       "  4800.0,\n",
       "  103,\n",
       "  6),\n",
       " (106,\n",
       "  'Valli',\n",
       "  'Pataballa',\n",
       "  'valli.pataballa@sqltutorial.org',\n",
       "  '590.423.4560',\n",
       "  '1998-02-05',\n",
       "  9,\n",
       "  4800.0,\n",
       "  103,\n",
       "  6),\n",
       " (107,\n",
       "  'Diana',\n",
       "  'Lorentz',\n",
       "  'diana.lorentz@sqltutorial.org',\n",
       "  '590.423.5567',\n",
       "  '1999-02-07',\n",
       "  9,\n",
       "  4200.0,\n",
       "  103,\n",
       "  6),\n",
       " (108,\n",
       "  'Nancy',\n",
       "  'Greenberg',\n",
       "  'nancy.greenberg@sqltutorial.org',\n",
       "  '515.124.4569',\n",
       "  '1994-08-17',\n",
       "  7,\n",
       "  12000.0,\n",
       "  101,\n",
       "  10),\n",
       " (109,\n",
       "  'Daniel',\n",
       "  'Faviet',\n",
       "  'daniel.faviet@sqltutorial.org',\n",
       "  '515.124.4169',\n",
       "  '1994-08-16',\n",
       "  6,\n",
       "  9000.0,\n",
       "  108,\n",
       "  10),\n",
       " (110,\n",
       "  'John',\n",
       "  'Chen',\n",
       "  'john.chen@sqltutorial.org',\n",
       "  '515.124.4269',\n",
       "  '1997-09-28',\n",
       "  6,\n",
       "  8200.0,\n",
       "  108,\n",
       "  10),\n",
       " (111,\n",
       "  'Ismael',\n",
       "  'Sciarra',\n",
       "  'ismael.sciarra@sqltutorial.org',\n",
       "  '515.124.4369',\n",
       "  '1997-09-30',\n",
       "  6,\n",
       "  7700.0,\n",
       "  108,\n",
       "  10),\n",
       " (112,\n",
       "  'Jose Manuel',\n",
       "  'Urman',\n",
       "  'jose manuel.urman@sqltutorial.org',\n",
       "  '515.124.4469',\n",
       "  '1998-03-07',\n",
       "  6,\n",
       "  7800.0,\n",
       "  108,\n",
       "  10),\n",
       " (113,\n",
       "  'Luis',\n",
       "  'Popp',\n",
       "  'luis.popp@sqltutorial.org',\n",
       "  '515.124.4567',\n",
       "  '1999-12-07',\n",
       "  6,\n",
       "  6900.0,\n",
       "  108,\n",
       "  10),\n",
       " (114,\n",
       "  'Den',\n",
       "  'Raphaely',\n",
       "  'den.raphaely@sqltutorial.org',\n",
       "  '515.127.4561',\n",
       "  '1994-12-07',\n",
       "  14,\n",
       "  11000.0,\n",
       "  100,\n",
       "  3),\n",
       " (115,\n",
       "  'Alexander',\n",
       "  'Khoo',\n",
       "  'alexander.khoo@sqltutorial.org',\n",
       "  '515.127.4562',\n",
       "  '1995-05-18',\n",
       "  13,\n",
       "  3100.0,\n",
       "  114,\n",
       "  3),\n",
       " (116,\n",
       "  'Shelli',\n",
       "  'Baida',\n",
       "  'shelli.baida@sqltutorial.org',\n",
       "  '515.127.4563',\n",
       "  '1997-12-24',\n",
       "  13,\n",
       "  2900.0,\n",
       "  114,\n",
       "  3),\n",
       " (117,\n",
       "  'Sigal',\n",
       "  'Tobias',\n",
       "  'sigal.tobias@sqltutorial.org',\n",
       "  '515.127.4564',\n",
       "  '1997-07-24',\n",
       "  13,\n",
       "  2800.0,\n",
       "  114,\n",
       "  3),\n",
       " (118,\n",
       "  'Guy',\n",
       "  'Himuro',\n",
       "  'guy.himuro@sqltutorial.org',\n",
       "  '515.127.4565',\n",
       "  '1998-11-15',\n",
       "  13,\n",
       "  2600.0,\n",
       "  114,\n",
       "  3),\n",
       " (119,\n",
       "  'Karen',\n",
       "  'Colmenares',\n",
       "  'karen.colmenares@sqltutorial.org',\n",
       "  '515.127.4566',\n",
       "  '1999-08-10',\n",
       "  13,\n",
       "  2500.0,\n",
       "  114,\n",
       "  3),\n",
       " (120,\n",
       "  'Matthew',\n",
       "  'Weiss',\n",
       "  'matthew.weiss@sqltutorial.org',\n",
       "  '650.123.1234',\n",
       "  '1996-07-18',\n",
       "  19,\n",
       "  8000.0,\n",
       "  100,\n",
       "  5),\n",
       " (121,\n",
       "  'Adam',\n",
       "  'Fripp',\n",
       "  'adam.fripp@sqltutorial.org',\n",
       "  '650.123.2234',\n",
       "  '1997-04-10',\n",
       "  19,\n",
       "  8200.0,\n",
       "  100,\n",
       "  5),\n",
       " (122,\n",
       "  'Payam',\n",
       "  'Kaufling',\n",
       "  'payam.kaufling@sqltutorial.org',\n",
       "  '650.123.3234',\n",
       "  '1995-05-01',\n",
       "  19,\n",
       "  7900.0,\n",
       "  100,\n",
       "  5),\n",
       " (123,\n",
       "  'Shanta',\n",
       "  'Vollman',\n",
       "  'shanta.vollman@sqltutorial.org',\n",
       "  '650.123.4234',\n",
       "  '1997-10-10',\n",
       "  19,\n",
       "  6500.0,\n",
       "  100,\n",
       "  5),\n",
       " (126,\n",
       "  'Irene',\n",
       "  'Mikkilineni',\n",
       "  'irene.mikkilineni@sqltutorial.org',\n",
       "  '650.124.1224',\n",
       "  '1998-09-28',\n",
       "  18,\n",
       "  2700.0,\n",
       "  120,\n",
       "  5),\n",
       " (145,\n",
       "  'John',\n",
       "  'Russell',\n",
       "  'john.russell@sqltutorial.org',\n",
       "  None,\n",
       "  '1996-10-01',\n",
       "  15,\n",
       "  14000.0,\n",
       "  100,\n",
       "  8),\n",
       " (146,\n",
       "  'Karen',\n",
       "  'Partners',\n",
       "  'karen.partners@sqltutorial.org',\n",
       "  None,\n",
       "  '1997-01-05',\n",
       "  15,\n",
       "  13500.0,\n",
       "  100,\n",
       "  8),\n",
       " (176,\n",
       "  'Jonathon',\n",
       "  'Taylor',\n",
       "  'jonathon.taylor@sqltutorial.org',\n",
       "  None,\n",
       "  '1998-03-24',\n",
       "  16,\n",
       "  8600.0,\n",
       "  100,\n",
       "  8),\n",
       " (177,\n",
       "  'Jack',\n",
       "  'Livingston',\n",
       "  'jack.livingston@sqltutorial.org',\n",
       "  None,\n",
       "  '1998-04-23',\n",
       "  16,\n",
       "  8400.0,\n",
       "  100,\n",
       "  8),\n",
       " (178,\n",
       "  'Kimberely',\n",
       "  'Grant',\n",
       "  'kimberely.grant@sqltutorial.org',\n",
       "  None,\n",
       "  '1999-05-24',\n",
       "  16,\n",
       "  7000.0,\n",
       "  100,\n",
       "  8),\n",
       " (179,\n",
       "  'Charles',\n",
       "  'Johnson',\n",
       "  'charles.johnson@sqltutorial.org',\n",
       "  None,\n",
       "  '2000-01-04',\n",
       "  16,\n",
       "  6200.0,\n",
       "  100,\n",
       "  8),\n",
       " (192,\n",
       "  'Sarah',\n",
       "  'Bell',\n",
       "  'sarah.bell@sqltutorial.org',\n",
       "  '650.501.1876',\n",
       "  '1996-02-04',\n",
       "  17,\n",
       "  4000.0,\n",
       "  123,\n",
       "  5),\n",
       " (193,\n",
       "  'Britney',\n",
       "  'Everett',\n",
       "  'britney.everett@sqltutorial.org',\n",
       "  '650.501.2876',\n",
       "  '1997-03-03',\n",
       "  17,\n",
       "  3900.0,\n",
       "  123,\n",
       "  5),\n",
       " (200,\n",
       "  'Jennifer',\n",
       "  'Whalen',\n",
       "  'jennifer.whalen@sqltutorial.org',\n",
       "  '515.123.4444',\n",
       "  '1987-09-17',\n",
       "  3,\n",
       "  4400.0,\n",
       "  101,\n",
       "  1),\n",
       " (201,\n",
       "  'Michael',\n",
       "  'Hartstein',\n",
       "  'michael.hartstein@sqltutorial.org',\n",
       "  '515.123.5555',\n",
       "  '1996-02-17',\n",
       "  10,\n",
       "  13000.0,\n",
       "  100,\n",
       "  2),\n",
       " (202,\n",
       "  'Pat',\n",
       "  'Fay',\n",
       "  'pat.fay@sqltutorial.org',\n",
       "  '603.123.6666',\n",
       "  '1997-08-17',\n",
       "  11,\n",
       "  6000.0,\n",
       "  201,\n",
       "  2),\n",
       " (203,\n",
       "  'Susan',\n",
       "  'Mavris',\n",
       "  'susan.mavris@sqltutorial.org',\n",
       "  '515.123.7777',\n",
       "  '1994-06-07',\n",
       "  8,\n",
       "  6500.0,\n",
       "  101,\n",
       "  4),\n",
       " (204,\n",
       "  'Hermann',\n",
       "  'Baer',\n",
       "  'hermann.baer@sqltutorial.org',\n",
       "  '515.123.8888',\n",
       "  '1994-06-07',\n",
       "  12,\n",
       "  10000.0,\n",
       "  101,\n",
       "  7),\n",
       " (205,\n",
       "  'Shelley',\n",
       "  'Higgins',\n",
       "  'shelley.higgins@sqltutorial.org',\n",
       "  '515.123.8080',\n",
       "  '1994-06-07',\n",
       "  2,\n",
       "  12000.0,\n",
       "  101,\n",
       "  11),\n",
       " (206,\n",
       "  'William',\n",
       "  'Gietz',\n",
       "  'william.gietz@sqltutorial.org',\n",
       "  '515.123.8181',\n",
       "  '1994-06-07',\n",
       "  1,\n",
       "  8300.0,\n",
       "  205,\n",
       "  11)]"
      ]
     },
     "execution_count": 36,
     "metadata": {},
     "output_type": "execute_result"
    }
   ],
   "source": [
    "select = '''\n",
    "SELECT * FROM employees\n",
    "'''\n",
    "\n",
    "result1 = execute_read_query(connection1,select)\n",
    "\n",
    "result1"
   ]
  },
  {
   "cell_type": "code",
   "execution_count": 1,
   "id": "7792c0ac-361e-4399-8688-e997d79b826f",
   "metadata": {},
   "outputs": [],
   "source": [
    "import psycopg2\n",
    "\n",
    "con = psycopg2.connect(database=\"mid_term_project\", user=\"lhl_student\", password=\"lhl_student\", host=\"mid-term-project.ca2jkepgjpne.us-east-2.rds.amazonaws.com\", port=\"5432\")"
   ]
  },
  {
   "cell_type": "code",
   "execution_count": 2,
   "id": "3535b578-8280-41e9-8a5d-2310b702378f",
   "metadata": {},
   "outputs": [
    {
     "data": {
      "text/plain": [
       "<connection object at 0x7f90cdbb9c10; dsn: 'user=lhl_student password=xxx dbname=mid_term_project host=mid-term-project.ca2jkepgjpne.us-east-2.rds.amazonaws.com port=5432', closed: 0>"
      ]
     },
     "execution_count": 2,
     "metadata": {},
     "output_type": "execute_result"
    }
   ],
   "source": [
    "con"
   ]
  },
  {
   "cell_type": "code",
   "execution_count": null,
   "id": "a823a2d0-a3e7-45a3-affb-0d4935131ce1",
   "metadata": {},
   "outputs": [],
   "source": []
  }
 ],
 "metadata": {
  "kernelspec": {
   "display_name": "Python 3",
   "language": "python",
   "name": "python3"
  },
  "language_info": {
   "codemirror_mode": {
    "name": "ipython",
    "version": 3
   },
   "file_extension": ".py",
   "mimetype": "text/x-python",
   "name": "python",
   "nbconvert_exporter": "python",
   "pygments_lexer": "ipython3",
   "version": "3.8.2"
  }
 },
 "nbformat": 4,
 "nbformat_minor": 5
}
